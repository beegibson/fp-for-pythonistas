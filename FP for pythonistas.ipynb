{
 "cells": [
  {
   "attachments": {},
   "cell_type": "markdown",
   "metadata": {
    "slideshow": {
     "slide_type": "slide"
    }
   },
   "source": [
    "# Introduction to Functional Programming\n",
    "## Bee Gibson\n",
    "## Internal Apps"
   ]
  },
  {
   "cell_type": "markdown",
   "metadata": {
    "slideshow": {
     "slide_type": "slide"
    }
   },
   "source": [
    "# What should you get out of this?"
   ]
  },
  {
   "attachments": {},
   "cell_type": "markdown",
   "metadata": {
    "slideshow": {
     "slide_type": "notes"
    }
   },
   "source": [
    "- What is the core of FP\n",
    "- How can it help with problems you've experienced?\n",
    "- How to use it in projects you're already working on\n",
    "- Not necessarily hard and complicated\n",
    "- Neckbeards welcome but not required"
   ]
  },
  {
   "cell_type": "markdown",
   "metadata": {
    "slideshow": {
     "slide_type": "slide"
    }
   },
   "source": [
    "# What we will cover"
   ]
  },
  {
   "attachments": {},
   "cell_type": "markdown",
   "metadata": {
    "slideshow": {
     "slide_type": "notes"
    }
   },
   "source": [
    "- What makes a language ok for functional programming?\n",
    "- Immutability\n",
    "- Putting off side effects\n",
    "- Referential transparency\n",
    "- Monads\n",
    "- Common traps when explaining to others\n",
    "- How to learn more"
   ]
  },
  {
   "cell_type": "markdown",
   "metadata": {
    "slideshow": {
     "slide_type": "slide"
    }
   },
   "source": [
    "# Stop things changing behind my back"
   ]
  },
  {
   "cell_type": "markdown",
   "metadata": {
    "slideshow": {
     "slide_type": "slide"
    }
   },
   "source": [
    "# What makes a functional language?"
   ]
  },
  {
   "cell_type": "markdown",
   "metadata": {
    "slideshow": {
     "slide_type": "notes"
    }
   },
   "source": [
    "- First class functions - can pass functions to other functions\n",
    "- other stuff is nice (which python has some of!) but that's the basics to make it workable\n",
    "- don't need a 'functional' language - I'm a ruby dev and I use mutation so rarely it attracts comments if I do"
   ]
  },
  {
   "cell_type": "markdown",
   "metadata": {
    "slideshow": {
     "slide_type": "slide"
    }
   },
   "source": [
    "# Immutability"
   ]
  },
  {
   "attachments": {},
   "cell_type": "markdown",
   "metadata": {
    "slideshow": {
     "slide_type": "notes"
    }
   },
   "source": [
    "- Don't change values, use constants and the stack\n",
    "- Instead of changing, create a new one\n",
    "- Recursion and accumulators over loops and mutation\n",
    "- Confusion over passing by value or reference? Gone\n",
    "- No global mutable state monstrosities without mutable state!"
   ]
  },
  {
   "cell_type": "markdown",
   "metadata": {
    "slideshow": {
     "slide_type": "slide"
    }
   },
   "source": [
    "# Code examples"
   ]
  },
  {
   "cell_type": "code",
   "execution_count": 1,
   "metadata": {
    "collapsed": true,
    "slideshow": {
     "slide_type": "slide"
    }
   },
   "outputs": [],
   "source": [
    "class Item {\n",
    "    constructor(cost) {\n",
    "        this.cost = cost;\n",
    "    };\n",
    "}"
   ]
  },
  {
   "cell_type": "code",
   "execution_count": 2,
   "metadata": {
    "collapsed": false,
    "slideshow": {
     "slide_type": "slide"
    }
   },
   "outputs": [
    {
     "data": {
      "text/plain": [
       "[ Item { cost: 11 }, Item { cost: 5.5 } ]"
      ]
     },
     "execution_count": 2,
     "metadata": {},
     "output_type": "execute_result"
    }
   ],
   "source": [
    "const GST_MULTIPLIER = 1.1\n",
    "\n",
    "function with_gst(item) {\n",
    "    // create new Item rather than mutate the argument\n",
    "    return new Item(item.cost * GST_MULTIPLIER);\n",
    "};\n",
    "\n",
    "// Recursion and accumulation over loops and mutation\n",
    "function add_gst_explicit_recursion(items) {\n",
    "    [head, ...tail] = items;\n",
    "    if (tail.length == 0) {\n",
    "        // base case\n",
    "        return with_gst(head);\n",
    "    }\n",
    "    else {\n",
    "        // recursive call\n",
    "        return [with_gst(head)].concat(add_gst_explicit_recursion(tail));\n",
    "    }\n",
    "}\n",
    "\n",
    "add_gst_explicit_recursion([new Item(10), new Item(5)]);"
   ]
  },
  {
   "cell_type": "code",
   "execution_count": 3,
   "metadata": {
    "slideshow": {
     "slide_type": "slide"
    }
   },
   "outputs": [
    {
     "data": {
      "text/plain": [
       "[ Item { cost: 11 }, Item { cost: 5.5 } ]"
      ]
     },
     "execution_count": 3,
     "metadata": {},
     "output_type": "execute_result"
    }
   ],
   "source": [
    "// We can avoid explicitly disecting the list with map!\n",
    "function add_gst(items) {\n",
    "    return items.map(with_gst);\n",
    "}\n",
    "\n",
    "add_gst([new Item(10), new Item(5)]);"
   ]
  },
  {
   "cell_type": "code",
   "execution_count": 4,
   "metadata": {
    "collapsed": false,
    "slideshow": {
     "slide_type": "slide"
    }
   },
   "outputs": [
    {
     "data": {
      "text/plain": [
       "15"
      ]
     },
     "execution_count": 4,
     "metadata": {},
     "output_type": "execute_result"
    }
   ],
   "source": [
    "// Totalling the shopping cart - reduce the values in to 1\n",
    "\n",
    "// iterative and mutable - not functional\n",
    "function mutable_total_cart(items) {\n",
    "    total = 0;\n",
    "    for (let i=0; i < items.length; i++) {\n",
    "        total += items[i].cost;\n",
    "    };\n",
    "    return total;\n",
    "};\n",
    "\n",
    "mutable_total_cart([new Item(10), new Item(5)]);"
   ]
  },
  {
   "cell_type": "code",
   "execution_count": 5,
   "metadata": {
    "collapsed": false,
    "slideshow": {
     "slide_type": "slide"
    }
   },
   "outputs": [
    {
     "data": {
      "text/plain": [
       "15"
      ]
     },
     "execution_count": 5,
     "metadata": {},
     "output_type": "execute_result"
    }
   ],
   "source": [
    "// explicit recursion\n",
    "\n",
    "function recursive_total_cart(items) {\n",
    "    [head, ...tail] = items;\n",
    "    if (tail.length == 0) {\n",
    "        // base case\n",
    "        return head.cost;\n",
    "    } else {\n",
    "        // recursive call\n",
    "        return head.cost + recursive_total_cart(tail);\n",
    "    };\n",
    "}\n",
    "\n",
    "recursive_total_cart([new Item(10), new Item(5)]);"
   ]
  },
  {
   "cell_type": "code",
   "execution_count": 6,
   "metadata": {
    "collapsed": false,
    "slideshow": {
     "slide_type": "slide"
    }
   },
   "outputs": [
    {
     "data": {
      "text/plain": [
       "15"
      ]
     },
     "execution_count": 6,
     "metadata": {},
     "output_type": "execute_result"
    }
   ],
   "source": [
    "// tail call recursion - not useful in JS, but gets memory \n",
    "// optimisations in some languages\n",
    "\n",
    "function tail_call_total_cart(items, total = 0) {\n",
    "    [head, ...tail] = items;\n",
    "    if (tail.length == 0) {\n",
    "        // addition performed in base case\n",
    "        return total + head.cost;\n",
    "    } else {\n",
    "        // last (tail) operation is the recursive call\n",
    "        // accumulator passed through each call\n",
    "        return tail_call_total_cart(tail, total + head.cost);\n",
    "    };\n",
    "};\n",
    "    \n",
    "tail_call_total_cart([new Item(10), new Item(5)]);"
   ]
  },
  {
   "cell_type": "code",
   "execution_count": 16,
   "metadata": {
    "collapsed": false,
    "slideshow": {
     "slide_type": "slide"
    }
   },
   "outputs": [
    {
     "data": {
      "text/plain": [
       "15"
      ]
     },
     "execution_count": 16,
     "metadata": {},
     "output_type": "execute_result"
    }
   ],
   "source": [
    "// implicit recursion\n",
    "\n",
    "function total_cart(items) {\n",
    "    // 0 is starting value for accumulator, like the default value of\n",
    "    // 0 in the previous implementation then run the anonymous function\n",
    "    // over each value in the items list, using 0 as the initial value\n",
    "    // for total\n",
    "    return items.reduce((total, head) => total + head.cost, 0);\n",
    "};\n",
    "\n",
    "total_cart([new Item(10), new Item(5)]);"
   ]
  },
  {
   "cell_type": "markdown",
   "metadata": {
    "slideshow": {
     "slide_type": "slide"
    }
   },
   "source": [
    "# What are side effects?"
   ]
  },
  {
   "attachments": {},
   "cell_type": "markdown",
   "metadata": {
    "slideshow": {
     "slide_type": "notes"
    }
   },
   "source": [
    "- when your code effects the outside world\n",
    "- printing\n",
    "- writing to disk\n",
    "- network calls\n",
    "- it's why you're writing software, what it does"
   ]
  },
  {
   "cell_type": "markdown",
   "metadata": {
    "slideshow": {
     "slide_type": "slide"
    }
   },
   "source": [
    "# What do they have to do with FP?"
   ]
  },
  {
   "attachments": {},
   "cell_type": "markdown",
   "metadata": {
    "slideshow": {
     "slide_type": "notes"
    }
   },
   "source": [
    "- separate logic from side effects\n",
    "- push them to the edge of your system\n",
    "- in the middle make a representation\n",
    "- make core easier to test and reason about\n",
    "- no side effects -> simpler tests\n",
    "- Push hard testing out to the edge, isolated\n",
    "- not about getting rid of them, about controlling them. Your software won't do much without side effects"
   ]
  },
  {
   "cell_type": "code",
   "execution_count": 8,
   "metadata": {
    "collapsed": false,
    "slideshow": {
     "slide_type": "skip"
    }
   },
   "outputs": [
    {
     "name": "stdout",
     "output_type": "stream",
     "text": [
      "11\n",
      "5.5\n"
     ]
    }
   ],
   "source": [
    "function print_add_gst(items, output = console.log) {\n",
    "    items.map((i) => output(with_gst(i).cost));\n",
    "};\n",
    "\n",
    "print_add_gst([new Item(10), new Item(5)]);"
   ]
  },
  {
   "cell_type": "code",
   "execution_count": 9,
   "metadata": {
    "collapsed": false,
    "slideshow": {
     "slide_type": "slide"
    }
   },
   "outputs": [
    {
     "name": "stdout",
     "output_type": "stream",
     "text": [
      "11\n",
      "5.5\n"
     ]
    }
   ],
   "source": [
    "// Business logic is seperate, and we can use \n",
    "// dependency injection to keep our side effects\n",
    "// really testable too\n",
    "\n",
    "function print_cost(items, output=console.log) {\n",
    "    items.map((i) => output(i.cost));\n",
    "};\n",
    "\n",
    "print_cost(add_gst([new Item(10), new Item(5)]));"
   ]
  },
  {
   "cell_type": "markdown",
   "metadata": {
    "slideshow": {
     "slide_type": "slide"
    }
   },
   "source": [
    "# Referential transparency"
   ]
  },
  {
   "cell_type": "markdown",
   "metadata": {
    "slideshow": {
     "slide_type": "notes"
    }
   },
   "source": [
    "- combination of immutability and no side effects\n",
    "- call a function again, get the same result and no side effects\n",
    "- can substitute saved result for function call\n",
    "- everything a function does represented by the result -> easy reasoning, nothing unexpected"
   ]
  },
  {
   "cell_type": "code",
   "execution_count": 10,
   "metadata": {
    "collapsed": false,
    "slideshow": {
     "slide_type": "slide"
    }
   },
   "outputs": [
    {
     "name": "stdout",
     "output_type": "stream",
     "text": [
      "11\n",
      "11\n"
     ]
    }
   ],
   "source": [
    "// referentially transparent\n",
    "\n",
    "function add_gst_cost(item) {\n",
    "    return with_gst(item)\n",
    "}\n",
    "\n",
    "let item = new Item(10)\n",
    "console.log(add_gst_cost(item).cost)\n",
    "console.log(add_gst_cost(item).cost)"
   ]
  },
  {
   "cell_type": "code",
   "execution_count": 11,
   "metadata": {
    "collapsed": false,
    "slideshow": {
     "slide_type": "slide"
    }
   },
   "outputs": [
    {
     "name": "stdout",
     "output_type": "stream",
     "text": [
      "11\n",
      "12.100000000000001\n"
     ]
    }
   ],
   "source": [
    "// not referentially transparent\n",
    "\n",
    "function mutable_add_gst_cost(item) {\n",
    "    item.cost = with_gst(item).cost\n",
    "    return item\n",
    "}\n",
    "\n",
    "item = new Item(10)\n",
    "console.log(mutable_add_gst_cost(item).cost)\n",
    "console.log(mutable_add_gst_cost(item).cost)"
   ]
  },
  {
   "cell_type": "markdown",
   "metadata": {
    "slideshow": {
     "slide_type": "slide"
    }
   },
   "source": [
    "# Monads"
   ]
  },
  {
   "cell_type": "markdown",
   "metadata": {
    "slideshow": {
     "slide_type": "slide"
    }
   },
   "source": [
    "# Has constructor"
   ]
  },
  {
   "cell_type": "markdown",
   "metadata": {
    "slideshow": {
     "slide_type": "slide"
    }
   },
   "source": [
    "# Has flatMap aka bind"
   ]
  },
  {
   "cell_type": "markdown",
   "metadata": {
    "slideshow": {
     "slide_type": "slide"
    }
   },
   "source": [
    "# flatten(map(...))"
   ]
  },
  {
   "cell_type": "code",
   "execution_count": 12,
   "metadata": {
    "collapsed": false,
    "slideshow": {
     "slide_type": "slide"
    }
   },
   "outputs": [
    {
     "name": "stdout",
     "output_type": "stream",
     "text": [
      "[ 'RHARDED ', 'RANE' ]\n",
      "[ 'HEE ', 'HAMMERSKY' ]\n"
     ]
    }
   ],
   "source": [
    "let name_pairs = [[\"rharded \", \"rane\"], [\"hee \", \"hammersky\"]]\n",
    "\n",
    "function capitilise_all(names) {\n",
    "    return names.map((n) => n.toUpperCase())\n",
    "}\n",
    "\n",
    "let transformed_names = name_pairs.map(capitilise_all)\n",
    "\n",
    "for (let i = 0; i < transformed_names.length; i++) {\n",
    "    console.log(transformed_names[i])\n",
    "}"
   ]
  },
  {
   "cell_type": "code",
   "execution_count": 13,
   "metadata": {
    "collapsed": false,
    "slideshow": {
     "slide_type": "slide"
    }
   },
   "outputs": [
    {
     "name": "stdout",
     "output_type": "stream",
     "text": [
      "RHARDED \n",
      "RANE\n",
      "HEE \n",
      "HAMMERSKY\n"
     ]
    }
   ],
   "source": [
    "transformed_names = name_pairs.map(capitilise_all)\n",
    "\n",
    "for (let i = 0; i < transformed_names.length; i++) {\n",
    "    for (let j = 0; j < transformed_names[i].length; j++) {\n",
    "        console.log(transformed_names[i][j])\n",
    "    }\n",
    "}"
   ]
  },
  {
   "cell_type": "code",
   "execution_count": 14,
   "metadata": {
    "collapsed": false,
    "slideshow": {
     "slide_type": "slide"
    }
   },
   "outputs": [
    {
     "name": "stdout",
     "output_type": "stream",
     "text": [
      "RHARDED \n",
      "RANE\n",
      "HEE \n",
      "HAMMERSKY\n"
     ]
    }
   ],
   "source": [
    "transformed_names = name_pairs.flatMap(capitilise_all)\n",
    "\n",
    "for (let i = 0; i < transformed_names.length; i++) {\n",
    "    console.log(transformed_names[i])\n",
    "}"
   ]
  },
  {
   "attachments": {},
   "cell_type": "markdown",
   "metadata": {
    "slideshow": {
     "slide_type": "slide"
    }
   },
   "source": [
    "# Generally also have filter"
   ]
  },
  {
   "cell_type": "code",
   "execution_count": 15,
   "metadata": {
    "slideshow": {
     "slide_type": "slide"
    }
   },
   "outputs": [
    {
     "name": "stdout",
     "output_type": "stream",
     "text": [
      "[ 'RHARDED ', 'RANE' ]\n"
     ]
    }
   ],
   "source": [
    "console.log(transformed_names.filter((name) => name.startsWith(\"R\")))"
   ]
  },
  {
   "cell_type": "markdown",
   "metadata": {
    "slideshow": {
     "slide_type": "slide"
    }
   },
   "source": [
    "# Generally also"
   ]
  },
  {
   "cell_type": "markdown",
   "metadata": {
    "slideshow": {
     "slide_type": "slide"
    }
   },
   "source": [
    "# map"
   ]
  },
  {
   "cell_type": "markdown",
   "metadata": {
    "slideshow": {
     "slide_type": "slide"
    }
   },
   "source": [
    "# often reduce"
   ]
  },
  {
   "cell_type": "markdown",
   "metadata": {
    "slideshow": {
     "slide_type": "slide"
    }
   },
   "source": [
    "# Tail call optimisation"
   ]
  },
  {
   "attachments": {},
   "cell_type": "markdown",
   "metadata": {
    "slideshow": {
     "slide_type": "notes"
    }
   },
   "source": [
    "- Makes FP much more efficient by not creating a new stack from for every tail call\n",
    "- Despite being in ES6 standard it's not in JS implementations except Safari, so can't really use it. Was in V8 for a while, but not anymore.\n",
    "- Use HO functions - functions that take functions - like map and filter instead\n",
    "- Also more concise and clearer once you've got your eye in - doesn't have the recursion boilerplate\n",
    "- They are actually iterative and mutating in JS, but you can reason about it as pure"
   ]
  },
  {
   "cell_type": "markdown",
   "metadata": {
    "slideshow": {
     "slide_type": "slide"
    }
   },
   "source": [
    "# Clash with OO?"
   ]
  },
  {
   "cell_type": "markdown",
   "metadata": {
    "slideshow": {
     "slide_type": "notes"
    }
   },
   "source": [
    "- Some claim that they clash\n",
    "- Say that mutation of state is fundamental to OO\n",
    "- Just making new objects instead of changing them has nothing to do with OO\n",
    "- Command query separation - related to putting off side effects"
   ]
  },
  {
   "cell_type": "markdown",
   "metadata": {
    "slideshow": {
     "slide_type": "skip"
    }
   },
   "source": [
    "# Teaching"
   ]
  },
  {
   "cell_type": "markdown",
   "metadata": {
    "slideshow": {
     "slide_type": "notes"
    }
   },
   "source": [
    "- don't get too mathematical, since FP has that reputation\n",
    "- relate to stuff they know - like monads they have already used\n",
    "- explaining monads to Venetia\n",
    "- avoid words like monad until they understand it\n",
    "- focus on advantages to them, fight the academic and impractical image"
   ]
  },
  {
   "cell_type": "markdown",
   "metadata": {
    "slideshow": {
     "slide_type": "slide"
    }
   },
   "source": [
    "# Stop things changing behind our backs"
   ]
  },
  {
   "attachments": {},
   "cell_type": "markdown",
   "metadata": {
    "slideshow": {
     "slide_type": "slide"
    }
   },
   "source": [
    "# Questions in Q&A\n",
    "## https://github.com/beegibson/fp-for-pythonistas\n",
    "## bee@canva.com"
   ]
  },
  {
   "cell_type": "markdown",
   "metadata": {},
   "source": []
  }
 ],
 "metadata": {
  "celltoolbar": "Slideshow",
  "kernelspec": {
   "display_name": "JavaScript (Node.js)",
   "language": "javascript",
   "name": "javascript"
  },
  "language_info": {
   "file_extension": ".js",
   "mimetype": "application/javascript",
   "name": "javascript",
   "version": "16.15.0"
  },
  "vscode": {
   "interpreter": {
    "hash": "49ed1526658880896e478620fc091090ca9c175f19b9ad283626b8a70b9b3601"
   }
  }
 },
 "nbformat": 4,
 "nbformat_minor": 0
}
