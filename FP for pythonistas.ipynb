{
 "cells": [
  {
   "cell_type": "markdown",
   "metadata": {
    "slideshow": {
     "slide_type": "slide"
    }
   },
   "source": [
    "# Introduction to Functional Programming\n",
    "Bianca Gibson"
   ]
  },
  {
   "cell_type": "markdown",
   "metadata": {
    "slideshow": {
     "slide_type": "slide"
    }
   },
   "source": [
    "# What should you get out of this?"
   ]
  },
  {
   "cell_type": "markdown",
   "metadata": {
    "slideshow": {
     "slide_type": "notes"
    }
   },
   "source": [
    "- What is the core of FP\n",
    "- How can it help with problems you've experienced?\n",
    "- How to use it in projects you're already working on\n",
    "- Not necessarily hard and complicated\n",
    "- No neckbeard required"
   ]
  },
  {
   "cell_type": "markdown",
   "metadata": {
    "slideshow": {
     "slide_type": "slide"
    }
   },
   "source": [
    "# What we will cover"
   ]
  },
  {
   "cell_type": "markdown",
   "metadata": {
    "slideshow": {
     "slide_type": "notes"
    }
   },
   "source": [
    "- What makes a functional language?\n",
    "- Immutability\n",
    "- Putting off side effects\n",
    "- Referential transparency\n",
    "- Common traps when explaining to others\n",
    "- How to learn more"
   ]
  },
  {
   "cell_type": "markdown",
   "metadata": {
    "slideshow": {
     "slide_type": "slide"
    }
   },
   "source": [
    "# Stop things changing behind my back"
   ]
  },
  {
   "cell_type": "markdown",
   "metadata": {
    "slideshow": {
     "slide_type": "slide"
    }
   },
   "source": [
    "# What makes a functional language?"
   ]
  },
  {
   "cell_type": "markdown",
   "metadata": {
    "slideshow": {
     "slide_type": "notes"
    }
   },
   "source": [
    "- First class functions - can pass functions to other functions\n",
    "- other stuff is nice (which python has some of!) but that's the basics to make it workable\n",
    "- don't need a 'functional' language - I'm a ruby dev and I use mutation so rarely it attracts comments if I do"
   ]
  },
  {
   "cell_type": "markdown",
   "metadata": {
    "slideshow": {
     "slide_type": "slide"
    }
   },
   "source": [
    "# Immutability"
   ]
  },
  {
   "cell_type": "markdown",
   "metadata": {
    "slideshow": {
     "slide_type": "notes"
    }
   },
   "source": [
    "- Don't change values, use constants and the stack\n",
    "- Instead of changing, create a new one\n",
    "- Recursion and accumulators over loops and mutation\n",
    "- how many of you are familiar with recursion?\n",
    "- Confusion over passing by value or reference? Gone"
   ]
  },
  {
   "cell_type": "markdown",
   "metadata": {
    "slideshow": {
     "slide_type": "slide"
    }
   },
   "source": [
    "# Story"
   ]
  },
  {
   "cell_type": "markdown",
   "metadata": {
    "slideshow": {
     "slide_type": "notes"
    }
   },
   "source": [
    "My gradle dependency list mutability story"
   ]
  },
  {
   "cell_type": "markdown",
   "metadata": {
    "slideshow": {
     "slide_type": "slide"
    }
   },
   "source": [
    "# Code examples"
   ]
  },
  {
   "cell_type": "code",
   "execution_count": 4,
   "metadata": {
    "collapsed": true,
    "slideshow": {
     "slide_type": "slide"
    }
   },
   "outputs": [],
   "source": [
    "class Item:\n",
    "    def __init__(self, cost):\n",
    "        self.cost = cost\n",
    "        \n",
    "    def __eq__(self, other):\n",
    "        if type(other) is type(self):\n",
    "            return self.cost == other.cost\n",
    "        return false\n",
    "    \n",
    "    def __ne__(self, other):\n",
    "        return not self.__eq__(other)"
   ]
  },
  {
   "cell_type": "code",
   "execution_count": 5,
   "metadata": {
    "collapsed": false,
    "slideshow": {
     "slide_type": "slide"
    }
   },
   "outputs": [
    {
     "name": "stdout",
     "output_type": "stream",
     "text": [
      "(<__main__.Item object at 0x7feb6d2ac518>, <__main__.Item object at 0x7feb6d2ac550>)\n"
     ]
    }
   ],
   "source": [
    "GST_MULTIPLIER = 1.1\n",
    "\n",
    "def with_gst(item):\n",
    "    return Item(item.cost * GST_MULTIPLIER)\n",
    "\n",
    "def add_gst_explicit_recursion(items):\n",
    "    head, *tail = items\n",
    "    if len(tail) == 0:\n",
    "        return (with_gst(head),)\n",
    "    else:\n",
    "        return (with_gst(head),) + add_gst_explicit_recursion(tail)\n",
    "\n",
    "print(add_gst_explicit_recursion([Item(10), Item(5)]))"
   ]
  },
  {
   "cell_type": "code",
   "execution_count": 6,
   "metadata": {
    "collapsed": false,
    "slideshow": {
     "slide_type": "slide"
    }
   },
   "outputs": [
    {
     "data": {
      "text/plain": [
       "[<__main__.Item at 0x7feb6d2acd30>, <__main__.Item at 0x7feb6d2acdd8>]"
      ]
     },
     "execution_count": 6,
     "metadata": {},
     "output_type": "execute_result"
    }
   ],
   "source": [
    "def add_gst(items):\n",
    "    return [with_gst(i) for i in items]\n",
    "\n",
    "add_gst([Item(10), Item(5)])"
   ]
  },
  {
   "cell_type": "code",
   "execution_count": 7,
   "metadata": {
    "collapsed": false,
    "slideshow": {
     "slide_type": "slide"
    }
   },
   "outputs": [
    {
     "data": {
      "text/plain": [
       "<map at 0x7feb6d2ac438>"
      ]
     },
     "execution_count": 7,
     "metadata": {},
     "output_type": "execute_result"
    }
   ],
   "source": [
    "def map_add_gst(items):\n",
    "    return map(with_gst, items)\n",
    "\n",
    "map_add_gst([Item(10), Item(5)])"
   ]
  },
  {
   "cell_type": "code",
   "execution_count": 8,
   "metadata": {
    "collapsed": false,
    "slideshow": {
     "slide_type": "slide"
    }
   },
   "outputs": [
    {
     "data": {
      "text/plain": [
       "15"
      ]
     },
     "execution_count": 8,
     "metadata": {},
     "output_type": "execute_result"
    }
   ],
   "source": [
    "# iterative and mutable\n",
    "\n",
    "def mutable_total_cart(items):\n",
    "    total = 0\n",
    "    for item in items:\n",
    "        total += item.cost\n",
    "    return total\n",
    "\n",
    "mutable_total_cart([Item(10), Item(5)])"
   ]
  },
  {
   "cell_type": "code",
   "execution_count": 9,
   "metadata": {
    "collapsed": false,
    "slideshow": {
     "slide_type": "slide"
    }
   },
   "outputs": [
    {
     "data": {
      "text/plain": [
       "15"
      ]
     },
     "execution_count": 9,
     "metadata": {},
     "output_type": "execute_result"
    }
   ],
   "source": [
    "# explicit recursion\n",
    "\n",
    "def recursive_total_cart(items):\n",
    "    head, *tail = items\n",
    "    if len(tail) == 0:\n",
    "        return head.cost\n",
    "    else:\n",
    "        return head.cost + recursive_total_cart(tail)\n",
    "\n",
    "recursive_total_cart([Item(10), Item(5)])"
   ]
  },
  {
   "cell_type": "code",
   "execution_count": 10,
   "metadata": {
    "collapsed": false,
    "slideshow": {
     "slide_type": "slide"
    }
   },
   "outputs": [
    {
     "data": {
      "text/plain": [
       "15"
      ]
     },
     "execution_count": 10,
     "metadata": {},
     "output_type": "execute_result"
    }
   ],
   "source": [
    "# tail call recursion\n",
    "\n",
    "def tail_call_total_cart(items, total=0):\n",
    "    head, *tail = items\n",
    "    if len(tail) == 0:\n",
    "        return total + head.cost\n",
    "    else:\n",
    "        return tail_call_total_cart(tail, total + head.cost)\n",
    "    \n",
    "tail_call_total_cart([Item(10), Item(5)])"
   ]
  },
  {
   "cell_type": "code",
   "execution_count": 11,
   "metadata": {
    "collapsed": false,
    "slideshow": {
     "slide_type": "slide"
    }
   },
   "outputs": [
    {
     "data": {
      "text/plain": [
       "15"
      ]
     },
     "execution_count": 11,
     "metadata": {},
     "output_type": "execute_result"
    }
   ],
   "source": [
    "#implicit recursion\n",
    "\n",
    "from functools import reduce\n",
    "\n",
    "def total_cart(items):\n",
    "    return reduce(lambda total, head: total + head.cost, items, 0)\n",
    "    \n",
    "total_cart([Item(10), Item(5)])"
   ]
  },
  {
   "cell_type": "markdown",
   "metadata": {
    "slideshow": {
     "slide_type": "slide"
    }
   },
   "source": [
    "# What are side effects?"
   ]
  },
  {
   "cell_type": "markdown",
   "metadata": {
    "slideshow": {
     "slide_type": "notes"
    }
   },
   "source": [
    "- when your code effects the outside world\n",
    "- Printing\n",
    "- writing to disk\n",
    "- network calls\n",
    "- it's why you're writing software, what it does"
   ]
  },
  {
   "cell_type": "markdown",
   "metadata": {
    "slideshow": {
     "slide_type": "slide"
    }
   },
   "source": [
    "# What do they have to do with FP?"
   ]
  },
  {
   "cell_type": "markdown",
   "metadata": {
    "slideshow": {
     "slide_type": "notes"
    }
   },
   "source": [
    "- separate logic from side effects\n",
    "- push them to the edge of your system\n",
    "- in the middle make a representation\n",
    "- make core easier to test and reason about\n",
    "- no side effects -> simpler tests\n",
    "- Push hard testing out to the edge, isolated\n",
    "- not about getting rid of them, about controlling them"
   ]
  },
  {
   "cell_type": "code",
   "execution_count": 12,
   "metadata": {
    "collapsed": false,
    "slideshow": {
     "slide_type": "slide"
    }
   },
   "outputs": [
    {
     "name": "stdout",
     "output_type": "stream",
     "text": [
      "11.0\n",
      "5.5\n"
     ]
    }
   ],
   "source": [
    "import sys\n",
    "\n",
    "def print_add_gst(items, out=sys.stdout):\n",
    "    [out.write(\"%s\\n\" % (str(with_gst(i).cost))) for i in items]\n",
    "\n",
    "print_add_gst([Item(10), Item(5)])"
   ]
  },
  {
   "cell_type": "code",
   "execution_count": 13,
   "metadata": {
    "collapsed": false,
    "slideshow": {
     "slide_type": "slide"
    }
   },
   "outputs": [
    {
     "name": "stdout",
     "output_type": "stream",
     "text": [
      "11.0\n",
      "5.5\n"
     ]
    }
   ],
   "source": [
    "def print_cost(items):\n",
    "    [sys.stdout.write(\"%s\\n\" % (str(i.cost))) for i in items]\n",
    "\n",
    "print_cost(add_gst([Item(10), Item(5)]))"
   ]
  },
  {
   "cell_type": "code",
   "execution_count": 14,
   "metadata": {
    "collapsed": false,
    "slideshow": {
     "slide_type": "slide"
    }
   },
   "outputs": [],
   "source": [
    "import unittest\n",
    "from io import StringIO\n",
    "\n",
    "def test_print_add_gst():\n",
    "    out = StringIO()\n",
    "    print_add_gst([Item(10), Item(5)], out=out)\n",
    "    assert out.getvalue().strip() == \"11.0\\n5.5\"\n",
    "    \n",
    "test_print_add_gst()"
   ]
  },
  {
   "cell_type": "code",
   "execution_count": 15,
   "metadata": {
    "collapsed": false,
    "slideshow": {
     "slide_type": "slide"
    }
   },
   "outputs": [],
   "source": [
    "import unittest\n",
    "\n",
    "def test_add_gst():\n",
    "    assert add_gst([Item(10), Item(5)]) == [Item(11.0), Item(5.5)]\n",
    "    \n",
    "test_add_gst()"
   ]
  },
  {
   "cell_type": "markdown",
   "metadata": {
    "slideshow": {
     "slide_type": "slide"
    }
   },
   "source": [
    "# Referential transparency"
   ]
  },
  {
   "cell_type": "markdown",
   "metadata": {
    "slideshow": {
     "slide_type": "notes"
    }
   },
   "source": [
    "- combination of immutability and no side effects\n",
    "- call a function again, get the same result and no side effects\n",
    "- can substitute saved result for function call\n",
    "- everything a function does represented by the result -> easy reasoning, nothing unexpected"
   ]
  },
  {
   "cell_type": "code",
   "execution_count": 16,
   "metadata": {
    "collapsed": false,
    "slideshow": {
     "slide_type": "slide"
    }
   },
   "outputs": [
    {
     "name": "stdout",
     "output_type": "stream",
     "text": [
      "11.0\n",
      "11.0\n"
     ]
    }
   ],
   "source": [
    "# referentially transparent\n",
    "\n",
    "def add_gst_cost(item):\n",
    "    return with_gst(item)\n",
    "\n",
    "item = Item(10)\n",
    "print(add_gst_cost(item).cost)\n",
    "print(add_gst_cost(item).cost)"
   ]
  },
  {
   "cell_type": "code",
   "execution_count": 17,
   "metadata": {
    "collapsed": false,
    "slideshow": {
     "slide_type": "slide"
    }
   },
   "outputs": [
    {
     "name": "stdout",
     "output_type": "stream",
     "text": [
      "11.0\n",
      "12.100000000000001\n"
     ]
    }
   ],
   "source": [
    "# not referentially transparent\n",
    "\n",
    "def mutable_add_gst_cost(item):\n",
    "    item.cost = with_gst(item).cost\n",
    "    return item\n",
    "\n",
    "item = Item(10)\n",
    "print(mutable_add_gst_cost(item).cost)\n",
    "print(mutable_add_gst_cost(item).cost)"
   ]
  },
  {
   "cell_type": "markdown",
   "metadata": {
    "slideshow": {
     "slide_type": "slide"
    }
   },
   "source": [
    "# Tail call optimisation"
   ]
  },
  {
   "cell_type": "markdown",
   "metadata": {
    "slideshow": {
     "slide_type": "notes"
    }
   },
   "source": [
    "- Makes FP much more efficient by not creating a new stack from for every tail call\n",
    "- Not in python, not going to happen\n",
    "- Guido's reasons were a bit off, and when pressed enough he basically said \"I don't like it\"\n",
    "- Use HO functions - functions that take functions - like map and filter instead\n",
    "- Also more concise and clearer once you've got your eye in - doesn't have the recursion boilerplate\n",
    "- They are actually iterative and mutating in python, but you can reason about it as pure\n",
    "- also trampolines available if you want explicit recursion"
   ]
  },
  {
   "cell_type": "markdown",
   "metadata": {
    "slideshow": {
     "slide_type": "slide"
    }
   },
   "source": [
    "# Clash with OO?"
   ]
  },
  {
   "cell_type": "markdown",
   "metadata": {
    "slideshow": {
     "slide_type": "notes"
    }
   },
   "source": [
    "- Some claim that they clash\n",
    "- Say that mutation of state is fundamental to OO\n",
    "- Just making new objects instead of changing them has nothing to do with OO\n",
    "- Command query separation - related to putting off side effects"
   ]
  },
  {
   "cell_type": "markdown",
   "metadata": {
    "slideshow": {
     "slide_type": "slide"
    }
   },
   "source": [
    "# Teaching"
   ]
  },
  {
   "cell_type": "markdown",
   "metadata": {
    "slideshow": {
     "slide_type": "notes"
    }
   },
   "source": [
    "- don't get too mathematical, since FP has that reputation\n",
    "- relate to stuff they know - like monads they have already used\n",
    "- explaining monads to Venetia\n",
    "- avoid words like monad until they understand it\n",
    "- focus on advantages to them, fight the academic and impractical image"
   ]
  },
  {
   "cell_type": "markdown",
   "metadata": {
    "slideshow": {
     "slide_type": "slide"
    }
   },
   "source": [
    "# Learning more"
   ]
  },
  {
   "cell_type": "markdown",
   "metadata": {
    "slideshow": {
     "slide_type": "notes"
    }
   },
   "source": [
    "Got a link to slides at the end, it's ok if you don't catch the link"
   ]
  },
  {
   "cell_type": "markdown",
   "metadata": {
    "slideshow": {
     "slide_type": "slide"
    }
   },
   "source": [
    "# docs.python.org/3/howto/functional.html"
   ]
  },
  {
   "cell_type": "markdown",
   "metadata": {
    "slideshow": {
     "slide_type": "notes"
    }
   },
   "source": [
    "- Useful examples\n",
    "- advocates for local mutation, claims that OO and FP clash"
   ]
  },
  {
   "cell_type": "markdown",
   "metadata": {
    "slideshow": {
     "slide_type": "slide"
    }
   },
   "source": [
    "# ibm.com/developerworks/linux/library/l-prog/index.html"
   ]
  },
  {
   "cell_type": "markdown",
   "metadata": {
    "slideshow": {
     "slide_type": "slide"
    }
   },
   "source": [
    "# TCO implementation:\n",
    "## baruchel.github.io/python/2015/11/07/explaining-functional-aspects-in-python/"
   ]
  },
  {
   "cell_type": "markdown",
   "metadata": {
    "slideshow": {
     "slide_type": "slide"
    }
   },
   "source": [
    "# bogotobogo.com/python/python_fncs_map_filter_reduce.php"
   ]
  },
  {
   "cell_type": "markdown",
   "metadata": {
    "slideshow": {
     "slide_type": "slide"
    }
   },
   "source": [
    "# diveintopython.net/functional_programming/index.html"
   ]
  },
  {
   "cell_type": "markdown",
   "metadata": {
    "slideshow": {
     "slide_type": "slide"
    }
   },
   "source": [
    "# anandology.com/python-practice-book/functional-programming.html"
   ]
  },
  {
   "cell_type": "markdown",
   "metadata": {
    "slideshow": {
     "slide_type": "slide"
    }
   },
   "source": [
    "# Functional Programming in Python, David Mertz"
   ]
  },
  {
   "cell_type": "markdown",
   "metadata": {
    "slideshow": {
     "slide_type": "slide"
    }
   },
   "source": [
    "# Non Python resources"
   ]
  },
  {
   "cell_type": "markdown",
   "metadata": {
    "slideshow": {
     "slide_type": "slide"
    }
   },
   "source": [
    "# Functional Programming Principles in Scala - coursera"
   ]
  },
  {
   "cell_type": "markdown",
   "metadata": {
    "slideshow": {
     "slide_type": "slide"
    }
   },
   "source": [
    "# Functional Programming in Scala - Paul Chiusano & Rúnar Bjarnason"
   ]
  },
  {
   "cell_type": "markdown",
   "metadata": {
    "slideshow": {
     "slide_type": "slide"
    }
   },
   "source": [
    "# Refactoring Ruby with Monads by Tom Stuart"
   ]
  },
  {
   "cell_type": "markdown",
   "metadata": {
    "slideshow": {
     "slide_type": "slide"
    }
   },
   "source": [
    "# github.com/cwmyers/FunctionalTraining"
   ]
  },
  {
   "cell_type": "markdown",
   "metadata": {
    "slideshow": {
     "slide_type": "slide"
    }
   },
   "source": [
    "# github.com/NICTA/course"
   ]
  },
  {
   "cell_type": "markdown",
   "metadata": {
    "slideshow": {
     "slide_type": "slide"
    }
   },
   "source": [
    "# Stop things changing behind our backs"
   ]
  },
  {
   "cell_type": "markdown",
   "metadata": {
    "slideshow": {
     "slide_type": "slide"
    }
   },
   "source": [
    "# Questions\n",
    "## github.com/biancaG/fp-for-pythonistas/tree/compcon\n",
    "## bianca.rachel.gibson@gmail.com"
   ]
  }
 ],
 "metadata": {
  "celltoolbar": "Slideshow",
  "kernelspec": {
   "display_name": "Python 3",
   "language": "python",
   "name": "python3"
  },
  "language_info": {
   "codemirror_mode": {
    "name": "ipython",
    "version": 3
   },
   "file_extension": ".py",
   "mimetype": "text/x-python",
   "name": "python",
   "nbconvert_exporter": "python",
   "pygments_lexer": "ipython3",
   "version": "3.4.3"
  }
 },
 "nbformat": 4,
 "nbformat_minor": 0
}
